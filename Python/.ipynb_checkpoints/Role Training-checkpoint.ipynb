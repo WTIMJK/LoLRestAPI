{
 "cells": [
  {
   "cell_type": "code",
   "execution_count": 24,
   "metadata": {},
   "outputs": [],
   "source": [
    "import pymongo\n",
    "import cassiopeia as cass\n",
    "import numpy as np"
   ]
  },
  {
   "cell_type": "code",
   "execution_count": 3,
   "metadata": {},
   "outputs": [],
   "source": [
    "myclient = pymongo.MongoClient(\"mongodb://localhost:27017/\")\n",
    "mydb = myclient[\"LoLData\"]\n",
    "mycol = mydb[\"modelData\"]"
   ]
  },
  {
   "cell_type": "code",
   "execution_count": 4,
   "metadata": {},
   "outputs": [],
   "source": [
    "data = mycol.find()"
   ]
  },
  {
   "cell_type": "code",
   "execution_count": 44,
   "metadata": {},
   "outputs": [
    {
     "name": "stdout",
     "output_type": "stream",
     "text": [
      "22 9 146\n"
     ]
    }
   ],
   "source": [
    "STARTING_ITEMS = sorted((\n",
    "    \"Boots of Speed\",\n",
    "    \"Faerie Charm\",\n",
    "    \"Rejuvenation Bead\",\n",
    "    \"Sapphire Crystal\",\n",
    "    \"Ruby Crystal\",\n",
    "    \"Cloth Armor\",\n",
    "    \"Null-Magic Mantle\",\n",
    "    \"Long Sword\",\n",
    "    \"Hunter's Talisman\",\n",
    "    \"Hunter's Machete\",\n",
    "    \"Dagger\",\n",
    "    \"Brawler's Gloves\",\n",
    "    \"Amplifying Tome\",\n",
    "    \"Doran's Shield\",\n",
    "    \"Doran's Blade\",\n",
    "    \"Doran's Ring\",\n",
    "    \"The Dark Seal\",\n",
    "    \"Cull\",\n",
    "    \"Ancient Coin\",\n",
    "    \"Relic Shield\",\n",
    "    \"Spellthief's Edge\",\n",
    "    \"Corrupting Potion\"\n",
    "))\n",
    "\n",
    "STARTING_ITEMS = {STARTING_ITEMS[i] : i for i in range(len(STARTING_ITEMS))}\n",
    "\n",
    "SUMMONER_SPELLS = cass.get_summoner_spells(\"NA\")\n",
    "SUMMONER_SPELLS = sorted([spell.name for spell in SUMMONER_SPELLS if cass.GameMode.classic in spell.modes])\n",
    "SUMMONER_SPELLS = {SUMMONER_SPELLS[i] : i for i in range(len(SUMMONER_SPELLS))}\n",
    "CHAMPIONS = cass.get_champions(\"NA\")\n",
    "CHAMPIONS = sorted([champion.name for champion in CHAMPIONS])\n",
    "\n",
    "print(len(STARTING_ITEMS), len(SUMMONER_SPELLS), len(CHAMPIONS))"
   ]
  },
  {
   "cell_type": "code",
   "execution_count": 17,
   "metadata": {},
   "outputs": [
    {
     "name": "stdout",
     "output_type": "stream",
     "text": [
      "<class 'dict'>\n"
     ]
    },
    {
     "data": {
      "text/plain": [
       "{'champion': 'Vayne',\n",
       " 'startingItems': ['Warding Totem (Trinket)',\n",
       "  'Health Potion',\n",
       "  \"Doran's Shield\"],\n",
       " 'participantId': 1,\n",
       " 'frequentPosition': 'BOT',\n",
       " 'experienceAt12': 3308,\n",
       " 'creepScoreAt12': 76,\n",
       " 'neutralKillsAt12': 0,\n",
       " 'summonerSpells': ['Flash', 'Heal'],\n",
       " 'validatedRole': 'carry'}"
      ]
     },
     "execution_count": 17,
     "metadata": {},
     "output_type": "execute_result"
    }
   ],
   "source": [
    "x = mycol.find_one()\n",
    "print(type(x))\n",
    "x['participantData']['1']"
   ]
  },
  {
   "cell_type": "code",
   "execution_count": 53,
   "metadata": {},
   "outputs": [],
   "source": [
    "def featureGetCS(participant):\n",
    "    return [participant['creepScoreAt12']]\n",
    "\n",
    "def featureGetStartingItems(participant):\n",
    "    StartingItems = [0] * len(STARTING_ITEMS)\n",
    "    for item in participant['startingItems']:\n",
    "        if item in STARTING_ITEMS:\n",
    "            StartingItems[STARTING_ITEMS[item]] = 1\n",
    "    return StartingItems\n",
    "\n",
    "def featureGetChampion(participant):\n",
    "    return [participant['champion']]\n",
    "\n",
    "def featureGetFrequentPosition(participant):\n",
    "    return [participant['frequentPosition']]\n",
    "\n",
    "def featureGetExperience(participant):\n",
    "    return [participant['experienceAt12']]\n",
    "\n",
    "def featureGetSummonerSpells(participant):\n",
    "    spells = [0] * len(SUMMONER_SPELLS)\n",
    "    for spell in participant['summonerSpells']:\n",
    "        if spell in SUMMONER_SPELLS:\n",
    "            spells[SUMMONER_SPELLS[spell]] = 1\n",
    "    return spells\n",
    "\n",
    "def featureGetNeutralKills(participant):\n",
    "    return [participant['neutralKillsAt12']]\n",
    "\n",
    "def getFeatures(participant):\n",
    "    features = {\n",
    "        \"cs\" : featureGetCS(participant),\n",
    "        \"exp\" : featureGetExperience(participant),\n",
    "        \"monsters\" : featureGetNeutralKills(participant),\n",
    "        \"spells\" : featureGetSummonerSpells(participant),\n",
    "        \"position\" : featureGetFrequentPosition(participant),\n",
    "        \"items\" : featureGetStartingItems(participant),\n",
    "        \"champion\" : featureGetChampion(participant)\n",
    "    }\n",
    "    return np.array((\n",
    "        *features['cs'],\n",
    "        *features['exp'],\n",
    "        *features['monsters'],\n",
    "        *features['spells'],\n",
    "        *features['position'],\n",
    "        *features['items'],\n",
    "        *features['champion']\n",
    "    ))\n",
    "    "
   ]
  },
  {
   "cell_type": "code",
   "execution_count": 54,
   "metadata": {},
   "outputs": [
    {
     "data": {
      "text/plain": [
       "array(['76', '3308', '0', '0', '0', '0', '1', '0', '1', '0', '0', '0',\n",
       "       'BOT', '0', '0', '0', '0', '0', '0', '0', '0', '0', '0', '1', '0',\n",
       "       '0', '0', '0', '0', '0', '0', '0', '0', '0', '0', 'Vayne'],\n",
       "      dtype='<U11')"
      ]
     },
     "execution_count": 54,
     "metadata": {},
     "output_type": "execute_result"
    }
   ],
   "source": [
    "participant = x['participantData']['1']\n",
    "getFeatures(participant)"
   ]
  },
  {
   "cell_type": "code",
   "execution_count": 55,
   "metadata": {},
   "outputs": [],
   "source": [
    "a=[1,2,3,\"6\"]"
   ]
  },
  {
   "cell_type": "code",
   "execution_count": 56,
   "metadata": {},
   "outputs": [
    {
     "data": {
      "text/plain": [
       "list"
      ]
     },
     "execution_count": 56,
     "metadata": {},
     "output_type": "execute_result"
    }
   ],
   "source": [
    "type(a)"
   ]
  },
  {
   "cell_type": "code",
   "execution_count": null,
   "metadata": {},
   "outputs": [],
   "source": []
  }
 ],
 "metadata": {
  "kernelspec": {
   "display_name": "Python 3",
   "language": "python",
   "name": "python3"
  }
 },
 "nbformat": 4,
 "nbformat_minor": 2
}
