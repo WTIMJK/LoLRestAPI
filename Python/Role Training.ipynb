{
 "cells": [
  {
   "cell_type": "code",
   "execution_count": 1,
   "metadata": {},
   "outputs": [],
   "source": [
    "import pymongo\n",
    "import cassiopeia as cass\n",
    "import numpy as np\n",
    "import pandas as pd\n",
    "import pickle\n",
    "from sklearn import svm\n",
    "from sklearn import tree\n",
    "from sklearn.model_selection import cross_val_score\n",
    "import scipy.optimize"
   ]
  },
  {
   "cell_type": "code",
   "execution_count": 2,
   "metadata": {},
   "outputs": [],
   "source": [
    "myclient = pymongo.MongoClient(\"mongodb://localhost:27017/\")\n",
    "mydb = myclient[\"LoLData\"]\n",
    "mycol = mydb[\"modelData\"]"
   ]
  },
  {
   "cell_type": "code",
   "execution_count": 3,
   "metadata": {},
   "outputs": [],
   "source": [
    "scoring = mydb['match']"
   ]
  },
  {
   "cell_type": "code",
   "execution_count": 248,
   "metadata": {},
   "outputs": [
    {
     "data": {
      "text/plain": [
       "{'_id': 3177363192,\n",
       " 'region': 'NORTH_AMERICA',\n",
       " 'participantData': {'1': {'champion': 'Kayle',\n",
       "   'startingItems': ['Warding Totem (Trinket)', 'Corrupting Potion'],\n",
       "   'participantId': 1,\n",
       "   'frequentPosition': 'TOP',\n",
       "   'experienceAt12': 5266,\n",
       "   'creepScoreAt12': 88,\n",
       "   'neutralKillsAt12': 0,\n",
       "   'summonerSpells': ['Teleport', 'Flash']},\n",
       "  '2': {'champion': 'Ziggs',\n",
       "   'startingItems': ['Health Potion', \"Spellthief's Edge\"],\n",
       "   'participantId': 2,\n",
       "   'frequentPosition': 'BOT',\n",
       "   'experienceAt12': 3120,\n",
       "   'creepScoreAt12': 5,\n",
       "   'neutralKillsAt12': 0,\n",
       "   'summonerSpells': ['Ignite', 'Flash']},\n",
       "  '3': {'champion': 'Irelia',\n",
       "   'startingItems': ['Warding Totem (Trinket)', 'Corrupting Potion'],\n",
       "   'participantId': 3,\n",
       "   'frequentPosition': 'MID',\n",
       "   'experienceAt12': 4934,\n",
       "   'creepScoreAt12': 100,\n",
       "   'neutralKillsAt12': 0,\n",
       "   'summonerSpells': ['Ignite', 'Flash']},\n",
       "  '4': {'champion': 'Lee Sin',\n",
       "   'startingItems': ['Warding Totem (Trinket)',\n",
       "    'Refillable Potion',\n",
       "    \"Hunter's Machete\"],\n",
       "   'participantId': 4,\n",
       "   'frequentPosition': 'JUNGLE',\n",
       "   'experienceAt12': 3521,\n",
       "   'creepScoreAt12': 0,\n",
       "   'neutralKillsAt12': 60,\n",
       "   'summonerSpells': ['Flash', 'Smite']},\n",
       "  '5': {'champion': 'Vayne',\n",
       "   'startingItems': ['Warding Totem (Trinket)',\n",
       "    \"Doran's Blade\",\n",
       "    'Health Potion'],\n",
       "   'participantId': 5,\n",
       "   'frequentPosition': 'BOT',\n",
       "   'experienceAt12': 3694,\n",
       "   'creepScoreAt12': 87,\n",
       "   'neutralKillsAt12': 0,\n",
       "   'summonerSpells': ['Flash', 'Heal']},\n",
       "  '6': {'champion': 'Jinx',\n",
       "   'startingItems': ['Warding Totem (Trinket)',\n",
       "    \"Doran's Blade\",\n",
       "    'Health Potion'],\n",
       "   'participantId': 6,\n",
       "   'frequentPosition': 'BOT',\n",
       "   'experienceAt12': 3864,\n",
       "   'creepScoreAt12': 87,\n",
       "   'neutralKillsAt12': 0,\n",
       "   'summonerSpells': ['Flash', 'Heal']},\n",
       "  '7': {'champion': 'Evelynn',\n",
       "   'startingItems': ['Warding Totem (Trinket)',\n",
       "    \"Hunter's Talisman\",\n",
       "    'Refillable Potion'],\n",
       "   'participantId': 7,\n",
       "   'frequentPosition': 'JUNGLE',\n",
       "   'experienceAt12': 3880,\n",
       "   'creepScoreAt12': 0,\n",
       "   'neutralKillsAt12': 60,\n",
       "   'summonerSpells': ['Smite', 'Flash']},\n",
       "  '8': {'champion': 'Lux',\n",
       "   'startingItems': ['Warding Totem (Trinket)',\n",
       "    \"Doran's Ring\",\n",
       "    'Health Potion'],\n",
       "   'participantId': 8,\n",
       "   'frequentPosition': 'MID',\n",
       "   'experienceAt12': 5929,\n",
       "   'creepScoreAt12': 108,\n",
       "   'neutralKillsAt12': 0,\n",
       "   'summonerSpells': ['Ignite', 'Flash']},\n",
       "  '9': {'champion': 'Kled',\n",
       "   'startingItems': ['Warding Totem (Trinket)',\n",
       "    \"Doran's Blade\",\n",
       "    'Health Potion'],\n",
       "   'participantId': 9,\n",
       "   'frequentPosition': 'TOP',\n",
       "   'experienceAt12': 5013,\n",
       "   'creepScoreAt12': 86,\n",
       "   'neutralKillsAt12': 4,\n",
       "   'summonerSpells': ['Flash', 'Teleport']},\n",
       "  '10': {'champion': 'Yuumi',\n",
       "   'startingItems': ['Warding Totem (Trinket)',\n",
       "    'Health Potion',\n",
       "    \"Spellthief's Edge\"],\n",
       "   'participantId': 10,\n",
       "   'frequentPosition': 'BOT',\n",
       "   'experienceAt12': 3396,\n",
       "   'creepScoreAt12': 0,\n",
       "   'neutralKillsAt12': 0,\n",
       "   'summonerSpells': ['Ignite', 'Flash']}},\n",
       " '_class': 'ScoringData'}"
      ]
     },
     "execution_count": 248,
     "metadata": {},
     "output_type": "execute_result"
    }
   ],
   "source": [
    "scoring.find_one({'_id': 3175062854})"
   ]
  },
  {
   "cell_type": "code",
   "execution_count": 7,
   "metadata": {},
   "outputs": [
    {
     "name": "stdout",
     "output_type": "stream",
     "text": [
      "22 9\n"
     ]
    }
   ],
   "source": [
    "STARTING_ITEMS = sorted(\n",
    "(\"Boots of Speed\",\"Faerie Charm\",\"Rejuvenation Bead\",\"Sapphire Crystal\",\"Ruby Crystal\",\"Cloth Armor\",\"Null-Magic Mantle\",\"Long Sword\",\"Hunter's Talisman\",\"Hunter's Machete\",\"Dagger\",\n",
    "\"Brawler's Gloves\",\"Amplifying Tome\",\"Doran's Shield\",\"Doran's Blade\",\"Doran's Ring\",\"The Dark Seal\",\"Cull\",\"Ancient Coin\",\"Relic Shield\",\"Spellthief's Edge\",\"Corrupting Potion\"))\n",
    "\n",
    "STARTING_ITEMS = {STARTING_ITEMS[i] : i for i in range(len(STARTING_ITEMS))}\n",
    "\n",
    "SUMMONER_SPELLS = cass.get_summoner_spells(\"NA\")\n",
    "SUMMONER_SPELLS = sorted([spell.name for spell in SUMMONER_SPELLS if cass.GameMode.classic in spell.modes])\n",
    "SUMMONER_SPELLS = {SUMMONER_SPELLS[i] : i for i in range(len(SUMMONER_SPELLS))}\n",
    "\n",
    "POSITIONS = sorted(('TOP','MID','BOT','JUNGLE'))\n",
    "POSITIONS = {POSITIONS[i] : i for i in range(len(POSITIONS))}\n",
    "# CHAMPIONS = cass.get_champions(\"NA\")\n",
    "# CHAMPIONS = sorted([champion.name for champion in CHAMPIONS])\n",
    "# CHAMPIONS = {CHAMPIONS[i] : i for i in range(len(CHAMPIONS))}\n",
    "\n",
    "print(len(STARTING_ITEMS), len(SUMMONER_SPELLS))"
   ]
  },
  {
   "cell_type": "code",
   "execution_count": 8,
   "metadata": {},
   "outputs": [],
   "source": [
    "trainingColumns = ['CS','Exp','MonsterKills'] + list(SUMMONER_SPELLS.keys()) + list(POSITIONS.keys()) + \\\n",
    "list(STARTING_ITEMS.keys()) + ['ParticipantId', 'GameId','VerifiedRole']\n",
    "def featureGetCS(participant):\n",
    "    return [participant['creepScoreAt12']]\n",
    "\n",
    "def featureGetStartingItems(participant):\n",
    "    StartingItems = [0] * len(STARTING_ITEMS)\n",
    "    if 'startingItems' in participant:\n",
    "        for item in participant['startingItems']:\n",
    "            if item in STARTING_ITEMS:\n",
    "                StartingItems[STARTING_ITEMS[item]] = 1\n",
    "    return StartingItems\n",
    "\n",
    "# def featureGetChampion(participant):\n",
    "#     champions = [0] * len(CHAMPIONS)\n",
    "#     for champion in CHAMPIONS:\n",
    "#         if participant['champion'] == champion:\n",
    "#             champions[CHAMPIONS[participant['champion']]] = 1\n",
    "#     return champions\n",
    "\n",
    "def featureGetFrequentPosition(participant):\n",
    "    positions = [0] * len(POSITIONS)\n",
    "    for p in POSITIONS:\n",
    "        if participant['frequentPosition'] == p:\n",
    "            positions[POSITIONS[participant['frequentPosition']]] = 1\n",
    "    return positions\n",
    "\n",
    "def featureGetExperience(participant):\n",
    "    return [participant['experienceAt12']]\n",
    "\n",
    "def featureGetSummonerSpells(participant):\n",
    "    spells = [0] * len(SUMMONER_SPELLS)\n",
    "    for spell in participant['summonerSpells']:\n",
    "        if spell in SUMMONER_SPELLS:\n",
    "            spells[SUMMONER_SPELLS[spell]] = 1\n",
    "    return spells\n",
    "\n",
    "def featureGetNeutralKills(participant):\n",
    "    return [participant['neutralKillsAt12']]\n",
    "\n",
    "def getFeatures(participant):\n",
    "    features = {\n",
    "        \"cs\" : featureGetCS(participant),\n",
    "        \"exp\" : featureGetExperience(participant),\n",
    "        \"monsters\" : featureGetNeutralKills(participant),\n",
    "        \"spells\" : featureGetSummonerSpells(participant),\n",
    "        \"position\" : featureGetFrequentPosition(participant),\n",
    "        \"items\" : featureGetStartingItems(participant)\n",
    "        #\"champion\" : featureGetChampion(participant)\n",
    "    }\n",
    "    '''np.array((\n",
    "        *features['cs'],\n",
    "        *features['exp'],\n",
    "        *features['monsters'],\n",
    "        *features['spells'],\n",
    "        *features['position'],\n",
    "        *features['items'],\n",
    "        *features['champion']\n",
    "    ))'''\n",
    "    l = list(features.values())\n",
    "    return [item for sublist in l for item in sublist]"
   ]
  },
  {
   "cell_type": "code",
   "execution_count": 9,
   "metadata": {},
   "outputs": [],
   "source": [
    "def getGameData(game):\n",
    "    data = []\n",
    "    features = []\n",
    "    gameId = game['_id']\n",
    "    participants = game['participantData']\n",
    "    for participant in participants.values():\n",
    "        participantId = participant['participantId']\n",
    "        if 'validatedRole' in game:\n",
    "            verifiedRole = participant['validatedRole']\n",
    "            features.append(verifiedRole)\n",
    "        features = getFeatures(participant)\n",
    "        data.append(features)        \n",
    "    return data\n",
    "\n",
    "def getData(data):\n",
    "    rows = []\n",
    "    for d in data:\n",
    "        gameId = d['_id']\n",
    "        participants = d['participantData']\n",
    "        for participant in participants.values():\n",
    "            participantId = participant['participantId']\n",
    "            verifiedRole = participant['validatedRole']\n",
    "            features = getFeatures(participant)\n",
    "            features.append(participantId)\n",
    "            features.append(gameId)\n",
    "            features.append(verifiedRole)\n",
    "            rows.append(features)\n",
    "    return rows"
   ]
  },
  {
   "cell_type": "code",
   "execution_count": 10,
   "metadata": {},
   "outputs": [
    {
     "name": "stdout",
     "output_type": "stream",
     "text": [
      "41 41\n"
     ]
    }
   ],
   "source": [
    "#trainingColumns\n",
    "myData = getData(mycol.find())\n",
    "print(len(myData[0]), len(trainingColumns))"
   ]
  },
  {
   "cell_type": "code",
   "execution_count": 18,
   "metadata": {},
   "outputs": [],
   "source": [
    "df = pd.DataFrame(getData(mycol.find()), columns=trainingColumns)"
   ]
  },
  {
   "cell_type": "code",
   "execution_count": 19,
   "metadata": {},
   "outputs": [
    {
     "name": "stdout",
     "output_type": "stream",
     "text": [
      "2\n",
      "5870\n",
      "5868\n"
     ]
    }
   ],
   "source": [
    "#y.value_counts()\n",
    "print(len(df[df['VerifiedRole']=='undefined']))\n",
    "print(len(df))\n",
    "df.drop(df[df['VerifiedRole']=='undefined'].index, inplace=True)\n",
    "print(len(df))"
   ]
  },
  {
   "cell_type": "code",
   "execution_count": 20,
   "metadata": {},
   "outputs": [],
   "source": [
    "y = df['VerifiedRole']\n",
    "x = df[df.columns[:-3]]\n",
    "scoringColumns = list(x.columns)"
   ]
  },
  {
   "cell_type": "code",
   "execution_count": 21,
   "metadata": {},
   "outputs": [
    {
     "data": {
      "text/plain": [
       "DecisionTreeClassifier(class_weight=None, criterion='entropy', max_depth=10,\n",
       "            max_features=None, max_leaf_nodes=None,\n",
       "            min_impurity_decrease=0.0, min_impurity_split=None,\n",
       "            min_samples_leaf=1, min_samples_split=2,\n",
       "            min_weight_fraction_leaf=0.0, presort=False, random_state=0,\n",
       "            splitter='best')"
      ]
     },
     "execution_count": 21,
     "metadata": {},
     "output_type": "execute_result"
    }
   ],
   "source": [
    "clf = tree.DecisionTreeClassifier(criterion='entropy', max_depth=10, random_state=0)\n",
    "clf.fit(x, y)"
   ]
  },
  {
   "cell_type": "code",
   "execution_count": 22,
   "metadata": {},
   "outputs": [
    {
     "name": "stdout",
     "output_type": "stream",
     "text": [
      "[0.99744681 0.99489362 0.99659574 0.99744246 0.9982906 ]\n",
      "Accuracy: 99.69 (+/- 0.23)\n"
     ]
    }
   ],
   "source": [
    "scores = cross_val_score(clf, x, y, cv=5)\n",
    "print(scores)\n",
    "scores *= 100\n",
    "print(\"Accuracy: %0.2f (+/- %0.2f)\" % (scores.mean(), scores.std() * 2))"
   ]
  },
  {
   "cell_type": "code",
   "execution_count": 23,
   "metadata": {},
   "outputs": [],
   "source": [
    "filename = 'finalized_model.sav'\n",
    "pickle.dump(clf, open(filename, 'wb'))"
   ]
  },
  {
   "cell_type": "code",
   "execution_count": 210,
   "metadata": {},
   "outputs": [],
   "source": [
    "#loaded_model = pickle.load(open(filename, 'rb'))\n",
    "LABELS = ['BOTTOM', 'JUNGLE', 'MIDDLE', 'SUPPORT', 'TOP']\n",
    "def split_features_by_team(features, teamsize=5):\n",
    "    teams = []\n",
    "    assert len(features) % teamsize == 0\n",
    "    for i in range(0, len(features), teamsize):\n",
    "        teams.append(features[i:i+teamsize])\n",
    "    return teams"
   ]
  },
  {
   "cell_type": "code",
   "execution_count": 226,
   "metadata": {},
   "outputs": [
    {
     "name": "stdout",
     "output_type": "stream",
     "text": [
      "[[1. 1. 1. 1. 0. 1.]\n",
      " [1. 1. 1. 0. 1. 1.]\n",
      " [1. 1. 0. 1. 1. 1.]\n",
      " [1. 0. 1. 1. 1. 1.]\n",
      " [0. 1. 1. 1. 1. 1.]]\n",
      "['TOP', 'UTILITY', 'MIDDLE', 'JUNGLE', 'BOTTOM']\n",
      "[[0. 1. 1. 1. 1. 1.]\n",
      " [1. 0. 1. 1. 1. 1.]\n",
      " [1. 1. 0. 1. 1. 1.]\n",
      " [1. 1. 1. 1. 0. 1.]\n",
      " [1. 1. 1. 0. 1. 1.]]\n",
      "['BOTTOM', 'JUNGLE', 'MIDDLE', 'TOP', 'UTILITY']\n"
     ]
    }
   ],
   "source": [
    "\n"
   ]
  },
  {
   "cell_type": "code",
   "execution_count": 219,
   "metadata": {},
   "outputs": [],
   "source": [
    "teams = split_features_by_team(gameData)"
   ]
  },
  {
   "cell_type": "code",
   "execution_count": 237,
   "metadata": {},
   "outputs": [],
   "source": [
    "def predict_team(team, clf, verbose=False):\n",
    "    assert len(team) == len(LABELS)\n",
    "    probs = 1 - clf.predict_proba(team)\n",
    "    print(probs)\n",
    "    row_ind, result = scipy.optimize.linear_sum_assignment(probs)\n",
    "    cost = probs[row_ind, result].sum() / len(team)\n",
    "    if verbose:\n",
    "        print(probs)\n",
    "        print(result)\n",
    "    return [LABELS[i] for i in result], cost\n",
    "def get_roles(game):\n",
    "    gameData = getGameData(game)\n",
    "    teams = split_features_by_team(gameData)\n",
    "    roleList = []\n",
    "    for team in teams:\n",
    "        roles, cost = predict_team(team, clf)\n",
    "        roleList+=roles\n",
    "    print(roleList)\n",
    "    \n",
    "    participants = game['participantData']\n",
    "    for i in range(len(participants)):\n",
    "        participants[str(i+1)]['validatedRole']=roleList[i]"
   ]
  },
  {
   "cell_type": "code",
   "execution_count": 238,
   "metadata": {},
   "outputs": [
    {
     "name": "stdout",
     "output_type": "stream",
     "text": [
      "[[1. 1. 1. 1. 0. 1.]\n",
      " [1. 1. 1. 0. 1. 1.]\n",
      " [1. 1. 0. 1. 1. 1.]\n",
      " [1. 0. 1. 1. 1. 1.]\n",
      " [0. 1. 1. 1. 1. 1.]]\n",
      "[[0. 1. 1. 1. 1. 1.]\n",
      " [1. 0. 1. 1. 1. 1.]\n",
      " [1. 1. 0. 1. 1. 1.]\n",
      " [1. 1. 1. 1. 0. 1.]\n",
      " [1. 1. 1. 0. 1. 1.]]\n",
      "['TOP', 'UTILITY', 'MIDDLE', 'JUNGLE', 'BOTTOM', 'BOTTOM', 'JUNGLE', 'MIDDLE', 'TOP', 'UTILITY']\n"
     ]
    }
   ],
   "source": [
    "sourceGame = scoring.find_one()\n",
    "get_roles(sourceGame)"
   ]
  },
  {
   "cell_type": "code",
   "execution_count": 239,
   "metadata": {},
   "outputs": [
    {
     "data": {
      "text/plain": [
       "{'champion': 'Kayle',\n",
       " 'startingItems': ['Warding Totem (Trinket)', 'Corrupting Potion'],\n",
       " 'participantId': 1,\n",
       " 'frequentPosition': 'TOP',\n",
       " 'experienceAt12': 5266,\n",
       " 'creepScoreAt12': 88,\n",
       " 'neutralKillsAt12': 0,\n",
       " 'summonerSpells': ['Teleport', 'Flash'],\n",
       " 'validatedRole': 'TOP'}"
      ]
     },
     "execution_count": 239,
     "metadata": {},
     "output_type": "execute_result"
    }
   ],
   "source": [
    "sourceGame['participantData']['1']"
   ]
  },
  {
   "cell_type": "code",
   "execution_count": null,
   "metadata": {},
   "outputs": [],
   "source": []
  }
 ],
 "metadata": {
  "kernelspec": {
   "display_name": "Python 3",
   "language": "python",
   "name": "python3"
  },
  "language_info": {
   "codemirror_mode": {
    "name": "ipython",
    "version": 3
   },
   "file_extension": ".py",
   "mimetype": "text/x-python",
   "name": "python",
   "nbconvert_exporter": "python",
   "pygments_lexer": "ipython3",
   "version": "3.6.9"
  }
 },
 "nbformat": 4,
 "nbformat_minor": 2
}
